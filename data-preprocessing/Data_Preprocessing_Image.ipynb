{
 "cells": [
  {
   "cell_type": "markdown",
   "metadata": {},
   "source": [
    "# **Data Preprocessing Image Dataset**\n",
    "\n",
    "This file takes the image dataset for lung cancer and creates several modified versions of the dataset to be used for model training and experiementing \n",
    "\n",
    "The choice of modifications is based on the analysis, the needs of different models and for experimental reasons\n",
    "\n",
    "## Necessary Imports"
   ]
  },
  {
   "cell_type": "code",
   "execution_count": 3,
   "metadata": {},
   "outputs": [],
   "source": [
    "# Python \n",
    "import sys\n",
    "assert sys.version_info >= (3, 5)\n",
    "\n",
    "# Scikit-Learn \n",
    "import sklearn\n",
    "assert sklearn.__version__ >= \"0.20\"\n",
    "\n",
    "# Pandas\n",
    "import pandas as pd\n",
    "\n",
    "import random\n",
    "\n",
    "# Common imports\n",
    "import numpy as np\n",
    "import os\n",
    "import cv2  \n",
    "\n",
    "np.random.seed(42)\n",
    "\n",
    "# To plot pretty figures\n",
    "%matplotlib inline\n",
    "import matplotlib as mpl\n",
    "import matplotlib.pyplot as plt"
   ]
  },
  {
   "cell_type": "markdown",
   "metadata": {},
   "source": [
    "## Loading in original dataset"
   ]
  },
  {
   "cell_type": "code",
   "execution_count": 4,
   "metadata": {},
   "outputs": [
    {
     "name": "stdout",
     "output_type": "stream",
     "text": [
      "                                               image   label\n",
      "0  [[38, 38, 38, 38, 38, 38, 38, 38, 38, 38, 38, ...  benign\n",
      "1  [[37, 37, 37, 37, 37, 37, 37, 37, 37, 37, 37, ...  benign\n",
      "2  [[38, 38, 38, 38, 38, 38, 38, 38, 38, 38, 38, ...  benign\n",
      "3  [[38, 38, 38, 38, 38, 38, 38, 38, 38, 38, 38, ...  benign\n",
      "4  [[38, 38, 38, 38, 38, 38, 38, 38, 38, 38, 38, ...  benign\n"
     ]
    }
   ],
   "source": [
    "ROOT_PATH = os.path.join(\"..\", \"datasets\", \"3_image\", \"untouched\")\n",
    "\n",
    "# Define subfolders and their corresponding labels\n",
    "folders_with_labels = {\n",
    "    \"Benign cases\": \"benign\",\n",
    "    \"Malignant cases\": \"malignant\",\n",
    "    \"Normal cases\": \"normal\",\n",
    "    \"Test cases\": \"test\"\n",
    "}\n",
    "\n",
    "# Initialize lists to store image data and labels\n",
    "image_data = []\n",
    "labels = []\n",
    "\n",
    "# Iterate through each folder and load images with labels\n",
    "for folder, label in folders_with_labels.items():\n",
    "    folder_path = os.path.join(ROOT_PATH, \"Training cases\" if folder != \"Test cases\" else \"Test cases\", folder)\n",
    "    for filename in os.listdir(folder_path):\n",
    "        if filename.endswith(\".jpg\") or filename.endswith(\".png\"):  # Adjust based on image format\n",
    "            # Load the image in grayscale (adjust if needed)\n",
    "            img_path = os.path.join(folder_path, filename)\n",
    "            image = cv2.imread(img_path, cv2.IMREAD_GRAYSCALE)\n",
    "            \n",
    "            # Store the image and its label\n",
    "            image_data.append(image)\n",
    "            labels.append(label)\n",
    "\n",
    "# Convert to a DataFrame for easy manipulation\n",
    "images_lung_cancer = pd.DataFrame({\n",
    "    \"image\": image_data,\n",
    "    \"label\": labels\n",
    "})\n",
    "\n",
    "# Display the first few rows to verify\n",
    "print(images_lung_cancer.head())"
   ]
  },
  {
   "cell_type": "markdown",
   "metadata": {},
   "source": [
    "## Modifying dataset and saving as a file"
   ]
  }
 ],
 "metadata": {
  "kernelspec": {
   "display_name": "F21DL",
   "language": "python",
   "name": "python3"
  },
  "language_info": {
   "codemirror_mode": {
    "name": "ipython",
    "version": 3
   },
   "file_extension": ".py",
   "mimetype": "text/x-python",
   "name": "python",
   "nbconvert_exporter": "python",
   "pygments_lexer": "ipython3",
   "version": "3.8.19"
  }
 },
 "nbformat": 4,
 "nbformat_minor": 2
}
