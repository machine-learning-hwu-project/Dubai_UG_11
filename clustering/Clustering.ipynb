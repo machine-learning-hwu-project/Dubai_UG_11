{
  "nbformat": 4,
  "nbformat_minor": 0,
  "metadata": {
    "colab": {
      "provenance": []
    },
    "kernelspec": {
      "name": "python3",
      "display_name": "Python 3"
    },
    "language_info": {
      "name": "python"
    }
  },
  "cells": [
    {
      "cell_type": "code",
      "execution_count": 3,
      "metadata": {
        "colab": {
          "base_uri": "https://localhost:8080/"
        },
        "id": "TKFDXWZvXt_a",
        "outputId": "692b28e0-320f-4f7e-e5e4-f39d4d57549a"
      },
      "outputs": [
        {
          "output_type": "stream",
          "name": "stdout",
          "text": [
            "29/10/2024\n",
            " Clustering notebook\n",
            " Authosrs: Yasmeen, Aballah Moosa, Ashar\n"
          ]
        }
      ],
      "source": [
        "print(\"29/10/2024\\n Clustering notebook\\n Authosrs: Yasmeen, Aballah Moosa, Ashar\")"
      ]
    },
    {
      "cell_type": "code",
      "source": [],
      "metadata": {
        "id": "zs8NmdjxYMUE"
      },
      "execution_count": null,
      "outputs": []
    }
  ]
}