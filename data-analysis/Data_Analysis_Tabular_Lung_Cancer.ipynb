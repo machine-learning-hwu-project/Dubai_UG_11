{
 "cells": [
  {
   "cell_type": "markdown",
   "metadata": {
    "id": "ln8q979HhRrL"
   },
   "source": [
    "# **Data Exploration**\n",
    "\n",
    "* Tabular Dataset on Lung Cancer: \n",
    "https://www.kaggle.com/datasets/nancyalaswad90/lung-cancer\n",
    "\n",
    "* Image Dataset (CT-Scans) Lung Cancer:\n",
    "https://www.kaggle.com/datasets/adityamahimkar/iqothnccd-lung-cancer-dataset/data\n"
   ]
  },
  {
   "cell_type": "markdown",
   "metadata": {
    "id": "3G2agedJhRrS"
   },
   "source": [
    "## Necessary Imports"
   ]
  },
  {
   "cell_type": "code",
   "execution_count": 2,
   "metadata": {
    "id": "UJMHBNTNhRrS"
   },
   "outputs": [],
   "source": [
    "import sys\n",
    "assert sys.version_info >= (3, 5)\n",
    "\n",
    "import sklearn\n",
    "assert sklearn.__version__ >= \"0.20\"\n",
    "\n",
    "import numpy as np\n",
    "import os\n",
    "#import tarfile\n",
    "#import urllib\n",
    "import pandas as pd\n",
    "#import urllib.request\n",
    "\n",
    "%matplotlib inline\n",
    "import matplotlib as mpl\n",
    "import matplotlib.pyplot as plt"
   ]
  },
  {
   "cell_type": "markdown",
   "metadata": {
    "id": "e1PFyyJfhRrX"
   },
   "source": [
    "## Loading Tabular Data"
   ]
  },
  {
   "cell_type": "markdown",
   "metadata": {
    "id": "lVD91J2YhRrX"
   },
   "source": [
    "With this code, I load the tabular dataset from a folder into a panda datafame "
   ]
  },
  {
   "cell_type": "code",
   "execution_count": 6,
   "metadata": {
    "id": "5b3O1VHkhRra"
   },
   "outputs": [
    {
     "name": "stdout",
     "output_type": "stream",
     "text": [
      "Shape of data:  (309, 16)\n"
     ]
    },
    {
     "data": {
      "text/html": [
       "<div>\n",
       "<style scoped>\n",
       "    .dataframe tbody tr th:only-of-type {\n",
       "        vertical-align: middle;\n",
       "    }\n",
       "\n",
       "    .dataframe tbody tr th {\n",
       "        vertical-align: top;\n",
       "    }\n",
       "\n",
       "    .dataframe thead th {\n",
       "        text-align: right;\n",
       "    }\n",
       "</style>\n",
       "<table border=\"1\" class=\"dataframe\">\n",
       "  <thead>\n",
       "    <tr style=\"text-align: right;\">\n",
       "      <th></th>\n",
       "      <th>GENDER</th>\n",
       "      <th>AGE</th>\n",
       "      <th>SMOKING</th>\n",
       "      <th>YELLOW_FINGERS</th>\n",
       "      <th>ANXIETY</th>\n",
       "      <th>PEER_PRESSURE</th>\n",
       "      <th>CHRONIC DISEASE</th>\n",
       "      <th>FATIGUE</th>\n",
       "      <th>ALLERGY</th>\n",
       "      <th>WHEEZING</th>\n",
       "      <th>ALCOHOL CONSUMING</th>\n",
       "      <th>COUGHING</th>\n",
       "      <th>SHORTNESS OF BREATH</th>\n",
       "      <th>SWALLOWING DIFFICULTY</th>\n",
       "      <th>CHEST PAIN</th>\n",
       "      <th>LUNG_CANCER</th>\n",
       "    </tr>\n",
       "  </thead>\n",
       "  <tbody>\n",
       "    <tr>\n",
       "      <th>0</th>\n",
       "      <td>M</td>\n",
       "      <td>69</td>\n",
       "      <td>1</td>\n",
       "      <td>2</td>\n",
       "      <td>2</td>\n",
       "      <td>1</td>\n",
       "      <td>1</td>\n",
       "      <td>2</td>\n",
       "      <td>1</td>\n",
       "      <td>2</td>\n",
       "      <td>2</td>\n",
       "      <td>2</td>\n",
       "      <td>2</td>\n",
       "      <td>2</td>\n",
       "      <td>2</td>\n",
       "      <td>YES</td>\n",
       "    </tr>\n",
       "    <tr>\n",
       "      <th>1</th>\n",
       "      <td>M</td>\n",
       "      <td>74</td>\n",
       "      <td>2</td>\n",
       "      <td>1</td>\n",
       "      <td>1</td>\n",
       "      <td>1</td>\n",
       "      <td>2</td>\n",
       "      <td>2</td>\n",
       "      <td>2</td>\n",
       "      <td>1</td>\n",
       "      <td>1</td>\n",
       "      <td>1</td>\n",
       "      <td>2</td>\n",
       "      <td>2</td>\n",
       "      <td>2</td>\n",
       "      <td>YES</td>\n",
       "    </tr>\n",
       "    <tr>\n",
       "      <th>2</th>\n",
       "      <td>F</td>\n",
       "      <td>59</td>\n",
       "      <td>1</td>\n",
       "      <td>1</td>\n",
       "      <td>1</td>\n",
       "      <td>2</td>\n",
       "      <td>1</td>\n",
       "      <td>2</td>\n",
       "      <td>1</td>\n",
       "      <td>2</td>\n",
       "      <td>1</td>\n",
       "      <td>2</td>\n",
       "      <td>2</td>\n",
       "      <td>1</td>\n",
       "      <td>2</td>\n",
       "      <td>NO</td>\n",
       "    </tr>\n",
       "    <tr>\n",
       "      <th>3</th>\n",
       "      <td>M</td>\n",
       "      <td>63</td>\n",
       "      <td>2</td>\n",
       "      <td>2</td>\n",
       "      <td>2</td>\n",
       "      <td>1</td>\n",
       "      <td>1</td>\n",
       "      <td>1</td>\n",
       "      <td>1</td>\n",
       "      <td>1</td>\n",
       "      <td>2</td>\n",
       "      <td>1</td>\n",
       "      <td>1</td>\n",
       "      <td>2</td>\n",
       "      <td>2</td>\n",
       "      <td>NO</td>\n",
       "    </tr>\n",
       "    <tr>\n",
       "      <th>4</th>\n",
       "      <td>F</td>\n",
       "      <td>63</td>\n",
       "      <td>1</td>\n",
       "      <td>2</td>\n",
       "      <td>1</td>\n",
       "      <td>1</td>\n",
       "      <td>1</td>\n",
       "      <td>1</td>\n",
       "      <td>1</td>\n",
       "      <td>2</td>\n",
       "      <td>1</td>\n",
       "      <td>2</td>\n",
       "      <td>2</td>\n",
       "      <td>1</td>\n",
       "      <td>1</td>\n",
       "      <td>NO</td>\n",
       "    </tr>\n",
       "  </tbody>\n",
       "</table>\n",
       "</div>"
      ],
      "text/plain": [
       "  GENDER  AGE  SMOKING  YELLOW_FINGERS  ANXIETY  PEER_PRESSURE  \\\n",
       "0      M   69        1               2        2              1   \n",
       "1      M   74        2               1        1              1   \n",
       "2      F   59        1               1        1              2   \n",
       "3      M   63        2               2        2              1   \n",
       "4      F   63        1               2        1              1   \n",
       "\n",
       "   CHRONIC DISEASE  FATIGUE   ALLERGY   WHEEZING  ALCOHOL CONSUMING  COUGHING  \\\n",
       "0                1         2         1         2                  2         2   \n",
       "1                2         2         2         1                  1         1   \n",
       "2                1         2         1         2                  1         2   \n",
       "3                1         1         1         1                  2         1   \n",
       "4                1         1         1         2                  1         2   \n",
       "\n",
       "   SHORTNESS OF BREATH  SWALLOWING DIFFICULTY  CHEST PAIN LUNG_CANCER  \n",
       "0                    2                      2           2         YES  \n",
       "1                    2                      2           2         YES  \n",
       "2                    2                      1           2          NO  \n",
       "3                    1                      2           2          NO  \n",
       "4                    2                      1           1          NO  "
      ]
     },
     "execution_count": 6,
     "metadata": {},
     "output_type": "execute_result"
    }
   ],
   "source": [
    "LUNG_TABULAR_PATH = os.path.join(\"datasets\", \"lung_tabular\")\n",
    "\n",
    "def load_lung_tabular(lung_tabular_path=LUNG_TABULAR_PATH):\n",
    "    csv_path = os.path.join(lung_tabular_path, \"lung_tabular.csv\")\n",
    "    return pd.read_csv(csv_path)\n",
    "\n",
    "lung_tabular = load_lung_tabular() \n",
    "\n",
    "print(\"Shape of data: \", lung_tabular.shape)\n",
    "lung_tabular.head() #Display first five rows of the frame\n"
   ]
  },
  {
   "cell_type": "markdown",
   "metadata": {},
   "source": [
    "Initial observation: \n",
    "\n",
    "There a 16 features in total, one of them is the target class - LUNG_CANCER\n",
    "\n",
    "Most data, 15 features, is categorical. It is of nominal data type - YES or NO, Male or Female \n",
    "\n",
    "Two such featuers are represented using a string ([M,F] for GENDER,[YES,NO] for LUNG_CANCER) \n",
    "\n",
    "The other nominal features are have a binary encoding [1,2] for [NO,YES]\n",
    "\n",
    "There is one attribute, AGE, of type ratio\n",
    "\n",
    "This dataset has 309 instances"
   ]
  },
  {
   "cell_type": "markdown",
   "metadata": {},
   "source": [
    "## Initial Analysis of Tabular data"
   ]
  },
  {
   "cell_type": "code",
   "execution_count": 7,
   "metadata": {
    "colab": {
     "base_uri": "https://localhost:8080/",
     "height": 204
    },
    "id": "s00DKz0mhRrb",
    "outputId": "4f411a66-1770-445c-d3ea-1509665a5e63"
   },
   "outputs": [
    {
     "name": "stdout",
     "output_type": "stream",
     "text": [
      "<class 'pandas.core.frame.DataFrame'>\n",
      "RangeIndex: 309 entries, 0 to 308\n",
      "Data columns (total 16 columns):\n",
      " #   Column                 Non-Null Count  Dtype \n",
      "---  ------                 --------------  ----- \n",
      " 0   GENDER                 309 non-null    object\n",
      " 1   AGE                    309 non-null    int64 \n",
      " 2   SMOKING                309 non-null    int64 \n",
      " 3   YELLOW_FINGERS         309 non-null    int64 \n",
      " 4   ANXIETY                309 non-null    int64 \n",
      " 5   PEER_PRESSURE          309 non-null    int64 \n",
      " 6   CHRONIC DISEASE        309 non-null    int64 \n",
      " 7   FATIGUE                309 non-null    int64 \n",
      " 8   ALLERGY                309 non-null    int64 \n",
      " 9   WHEEZING               309 non-null    int64 \n",
      " 10  ALCOHOL CONSUMING      309 non-null    int64 \n",
      " 11  COUGHING               309 non-null    int64 \n",
      " 12  SHORTNESS OF BREATH    309 non-null    int64 \n",
      " 13  SWALLOWING DIFFICULTY  309 non-null    int64 \n",
      " 14  CHEST PAIN             309 non-null    int64 \n",
      " 15  LUNG_CANCER            309 non-null    object\n",
      "dtypes: int64(14), object(2)\n",
      "memory usage: 38.8+ KB\n"
     ]
    }
   ],
   "source": [
    "lung_tabular.info()"
   ]
  },
  {
   "cell_type": "code",
   "execution_count": 10,
   "metadata": {},
   "outputs": [
    {
     "data": {
      "text/plain": [
       "GENDER                   0\n",
       "AGE                      0\n",
       "SMOKING                  0\n",
       "YELLOW_FINGERS           0\n",
       "ANXIETY                  0\n",
       "PEER_PRESSURE            0\n",
       "CHRONIC DISEASE          0\n",
       "FATIGUE                  0\n",
       "ALLERGY                  0\n",
       "WHEEZING                 0\n",
       "ALCOHOL CONSUMING        0\n",
       "COUGHING                 0\n",
       "SHORTNESS OF BREATH      0\n",
       "SWALLOWING DIFFICULTY    0\n",
       "CHEST PAIN               0\n",
       "LUNG_CANCER              0\n",
       "dtype: int64"
      ]
     },
     "execution_count": 10,
     "metadata": {},
     "output_type": "execute_result"
    }
   ],
   "source": [
    "lung_tabular.isnull().sum()"
   ]
  },
  {
   "cell_type": "markdown",
   "metadata": {},
   "source": [
    "The data has no missing values. Every attribute of the 309 instances has a value."
   ]
  },
  {
   "cell_type": "code",
   "execution_count": 8,
   "metadata": {},
   "outputs": [
    {
     "data": {
      "text/html": [
       "<div>\n",
       "<style scoped>\n",
       "    .dataframe tbody tr th:only-of-type {\n",
       "        vertical-align: middle;\n",
       "    }\n",
       "\n",
       "    .dataframe tbody tr th {\n",
       "        vertical-align: top;\n",
       "    }\n",
       "\n",
       "    .dataframe thead th {\n",
       "        text-align: right;\n",
       "    }\n",
       "</style>\n",
       "<table border=\"1\" class=\"dataframe\">\n",
       "  <thead>\n",
       "    <tr style=\"text-align: right;\">\n",
       "      <th></th>\n",
       "      <th>AGE</th>\n",
       "      <th>SMOKING</th>\n",
       "      <th>YELLOW_FINGERS</th>\n",
       "      <th>ANXIETY</th>\n",
       "      <th>PEER_PRESSURE</th>\n",
       "      <th>CHRONIC DISEASE</th>\n",
       "      <th>FATIGUE</th>\n",
       "      <th>ALLERGY</th>\n",
       "      <th>WHEEZING</th>\n",
       "      <th>ALCOHOL CONSUMING</th>\n",
       "      <th>COUGHING</th>\n",
       "      <th>SHORTNESS OF BREATH</th>\n",
       "      <th>SWALLOWING DIFFICULTY</th>\n",
       "      <th>CHEST PAIN</th>\n",
       "    </tr>\n",
       "  </thead>\n",
       "  <tbody>\n",
       "    <tr>\n",
       "      <th>count</th>\n",
       "      <td>309.000000</td>\n",
       "      <td>309.000000</td>\n",
       "      <td>309.000000</td>\n",
       "      <td>309.000000</td>\n",
       "      <td>309.000000</td>\n",
       "      <td>309.000000</td>\n",
       "      <td>309.000000</td>\n",
       "      <td>309.000000</td>\n",
       "      <td>309.000000</td>\n",
       "      <td>309.000000</td>\n",
       "      <td>309.000000</td>\n",
       "      <td>309.000000</td>\n",
       "      <td>309.000000</td>\n",
       "      <td>309.000000</td>\n",
       "    </tr>\n",
       "    <tr>\n",
       "      <th>mean</th>\n",
       "      <td>62.673139</td>\n",
       "      <td>1.563107</td>\n",
       "      <td>1.569579</td>\n",
       "      <td>1.498382</td>\n",
       "      <td>1.501618</td>\n",
       "      <td>1.504854</td>\n",
       "      <td>1.673139</td>\n",
       "      <td>1.556634</td>\n",
       "      <td>1.556634</td>\n",
       "      <td>1.556634</td>\n",
       "      <td>1.579288</td>\n",
       "      <td>1.640777</td>\n",
       "      <td>1.469256</td>\n",
       "      <td>1.556634</td>\n",
       "    </tr>\n",
       "    <tr>\n",
       "      <th>std</th>\n",
       "      <td>8.210301</td>\n",
       "      <td>0.496806</td>\n",
       "      <td>0.495938</td>\n",
       "      <td>0.500808</td>\n",
       "      <td>0.500808</td>\n",
       "      <td>0.500787</td>\n",
       "      <td>0.469827</td>\n",
       "      <td>0.497588</td>\n",
       "      <td>0.497588</td>\n",
       "      <td>0.497588</td>\n",
       "      <td>0.494474</td>\n",
       "      <td>0.480551</td>\n",
       "      <td>0.499863</td>\n",
       "      <td>0.497588</td>\n",
       "    </tr>\n",
       "    <tr>\n",
       "      <th>min</th>\n",
       "      <td>21.000000</td>\n",
       "      <td>1.000000</td>\n",
       "      <td>1.000000</td>\n",
       "      <td>1.000000</td>\n",
       "      <td>1.000000</td>\n",
       "      <td>1.000000</td>\n",
       "      <td>1.000000</td>\n",
       "      <td>1.000000</td>\n",
       "      <td>1.000000</td>\n",
       "      <td>1.000000</td>\n",
       "      <td>1.000000</td>\n",
       "      <td>1.000000</td>\n",
       "      <td>1.000000</td>\n",
       "      <td>1.000000</td>\n",
       "    </tr>\n",
       "    <tr>\n",
       "      <th>25%</th>\n",
       "      <td>57.000000</td>\n",
       "      <td>1.000000</td>\n",
       "      <td>1.000000</td>\n",
       "      <td>1.000000</td>\n",
       "      <td>1.000000</td>\n",
       "      <td>1.000000</td>\n",
       "      <td>1.000000</td>\n",
       "      <td>1.000000</td>\n",
       "      <td>1.000000</td>\n",
       "      <td>1.000000</td>\n",
       "      <td>1.000000</td>\n",
       "      <td>1.000000</td>\n",
       "      <td>1.000000</td>\n",
       "      <td>1.000000</td>\n",
       "    </tr>\n",
       "    <tr>\n",
       "      <th>50%</th>\n",
       "      <td>62.000000</td>\n",
       "      <td>2.000000</td>\n",
       "      <td>2.000000</td>\n",
       "      <td>1.000000</td>\n",
       "      <td>2.000000</td>\n",
       "      <td>2.000000</td>\n",
       "      <td>2.000000</td>\n",
       "      <td>2.000000</td>\n",
       "      <td>2.000000</td>\n",
       "      <td>2.000000</td>\n",
       "      <td>2.000000</td>\n",
       "      <td>2.000000</td>\n",
       "      <td>1.000000</td>\n",
       "      <td>2.000000</td>\n",
       "    </tr>\n",
       "    <tr>\n",
       "      <th>75%</th>\n",
       "      <td>69.000000</td>\n",
       "      <td>2.000000</td>\n",
       "      <td>2.000000</td>\n",
       "      <td>2.000000</td>\n",
       "      <td>2.000000</td>\n",
       "      <td>2.000000</td>\n",
       "      <td>2.000000</td>\n",
       "      <td>2.000000</td>\n",
       "      <td>2.000000</td>\n",
       "      <td>2.000000</td>\n",
       "      <td>2.000000</td>\n",
       "      <td>2.000000</td>\n",
       "      <td>2.000000</td>\n",
       "      <td>2.000000</td>\n",
       "    </tr>\n",
       "    <tr>\n",
       "      <th>max</th>\n",
       "      <td>87.000000</td>\n",
       "      <td>2.000000</td>\n",
       "      <td>2.000000</td>\n",
       "      <td>2.000000</td>\n",
       "      <td>2.000000</td>\n",
       "      <td>2.000000</td>\n",
       "      <td>2.000000</td>\n",
       "      <td>2.000000</td>\n",
       "      <td>2.000000</td>\n",
       "      <td>2.000000</td>\n",
       "      <td>2.000000</td>\n",
       "      <td>2.000000</td>\n",
       "      <td>2.000000</td>\n",
       "      <td>2.000000</td>\n",
       "    </tr>\n",
       "  </tbody>\n",
       "</table>\n",
       "</div>"
      ],
      "text/plain": [
       "              AGE     SMOKING  YELLOW_FINGERS     ANXIETY  PEER_PRESSURE  \\\n",
       "count  309.000000  309.000000      309.000000  309.000000     309.000000   \n",
       "mean    62.673139    1.563107        1.569579    1.498382       1.501618   \n",
       "std      8.210301    0.496806        0.495938    0.500808       0.500808   \n",
       "min     21.000000    1.000000        1.000000    1.000000       1.000000   \n",
       "25%     57.000000    1.000000        1.000000    1.000000       1.000000   \n",
       "50%     62.000000    2.000000        2.000000    1.000000       2.000000   \n",
       "75%     69.000000    2.000000        2.000000    2.000000       2.000000   \n",
       "max     87.000000    2.000000        2.000000    2.000000       2.000000   \n",
       "\n",
       "       CHRONIC DISEASE    FATIGUE     ALLERGY     WHEEZING  ALCOHOL CONSUMING  \\\n",
       "count       309.000000  309.000000  309.000000  309.000000         309.000000   \n",
       "mean          1.504854    1.673139    1.556634    1.556634           1.556634   \n",
       "std           0.500787    0.469827    0.497588    0.497588           0.497588   \n",
       "min           1.000000    1.000000    1.000000    1.000000           1.000000   \n",
       "25%           1.000000    1.000000    1.000000    1.000000           1.000000   \n",
       "50%           2.000000    2.000000    2.000000    2.000000           2.000000   \n",
       "75%           2.000000    2.000000    2.000000    2.000000           2.000000   \n",
       "max           2.000000    2.000000    2.000000    2.000000           2.000000   \n",
       "\n",
       "         COUGHING  SHORTNESS OF BREATH  SWALLOWING DIFFICULTY  CHEST PAIN  \n",
       "count  309.000000           309.000000             309.000000  309.000000  \n",
       "mean     1.579288             1.640777               1.469256    1.556634  \n",
       "std      0.494474             0.480551               0.499863    0.497588  \n",
       "min      1.000000             1.000000               1.000000    1.000000  \n",
       "25%      1.000000             1.000000               1.000000    1.000000  \n",
       "50%      2.000000             2.000000               1.000000    2.000000  \n",
       "75%      2.000000             2.000000               2.000000    2.000000  \n",
       "max      2.000000             2.000000               2.000000    2.000000  "
      ]
     },
     "execution_count": 8,
     "metadata": {},
     "output_type": "execute_result"
    }
   ],
   "source": [
    "lung_tabular.describe()"
   ]
  },
  {
   "cell_type": "markdown",
   "metadata": {},
   "source": [
    "The range of ages is quite wide, from 21 to 87, however, most of the participant ages are around the age of 62, older adults, which is the age of concern for such a disease. Age distribution needs to be checked.\n",
    "\n",
    "For the other numerical attributues, the mean value hovers around 1.5-1.6, which is a result of the data being a binary encoding of a [YES,NO] classification.\n",
    "\n",
    "The mean being 1.5, with the standard deviation being around 0.5 indicates that that there is a relatively balanced distribution between the values of non target attributes. This can be further probed.\n",
    "\n",
    "Features like SMOKING, WHEEZING, and COUGHING have means closer to 1.6, suggesting a slight skew toward 2 (\"Yes\") responses in these attributes, which could hint that more participants reported these symptoms or risk factors."
   ]
  },
  {
   "cell_type": "code",
   "execution_count": 11,
   "metadata": {},
   "outputs": [
    {
     "data": {
      "text/plain": [
       "LUNG_CANCER\n",
       "YES    270\n",
       "NO      39\n",
       "Name: count, dtype: int64"
      ]
     },
     "execution_count": 11,
     "metadata": {},
     "output_type": "execute_result"
    }
   ],
   "source": [
    "lung_tabular['LUNG_CANCER'].value_counts()"
   ]
  },
  {
   "cell_type": "markdown",
   "metadata": {},
   "source": [
    "The class distribution for LUNG_CANCER is highly imbalanced, with 270 instances labeled as YES (positive for lung cancer) and only 39 instances labeled as NO (negative for lung cancer). This imbalance may lead to challenges in model training, as most algorithms could be biased towards predicting the majority class. Oversampling may need to be performed to improve model performance."
   ]
  },
  {
   "cell_type": "code",
   "execution_count": 12,
   "metadata": {},
   "outputs": [
    {
     "data": {
      "text/plain": [
       "GENDER\n",
       "M    162\n",
       "F    147\n",
       "Name: count, dtype: int64"
      ]
     },
     "execution_count": 12,
     "metadata": {},
     "output_type": "execute_result"
    }
   ],
   "source": [
    "lung_tabular['GENDER'].value_counts()"
   ]
  },
  {
   "cell_type": "markdown",
   "metadata": {},
   "source": [
    "The gender spread is quite balanced, indicating the dataset is unbiased in that sense."
   ]
  },
  {
   "cell_type": "markdown",
   "metadata": {},
   "source": [
    "## Data Preprocessing \n",
    "\n",
    "For further data analysis it will be useful to normalise the data from [1,2] to [0,1], [M,F] to [0,1] and from [NO,YES] to [0,1]. This is important for two reasons: better values for training neural networks and visualising the spread of target attribute."
   ]
  },
  {
   "cell_type": "code",
   "execution_count": 13,
   "metadata": {
    "colab": {
     "base_uri": "https://localhost:8080/"
    },
    "id": "6jx67hw8hRrd",
    "outputId": "dcbfd3fd-3f15-49c1-ef80-a8256eb55505"
   },
   "outputs": [
    {
     "data": {
      "text/html": [
       "<div>\n",
       "<style scoped>\n",
       "    .dataframe tbody tr th:only-of-type {\n",
       "        vertical-align: middle;\n",
       "    }\n",
       "\n",
       "    .dataframe tbody tr th {\n",
       "        vertical-align: top;\n",
       "    }\n",
       "\n",
       "    .dataframe thead th {\n",
       "        text-align: right;\n",
       "    }\n",
       "</style>\n",
       "<table border=\"1\" class=\"dataframe\">\n",
       "  <thead>\n",
       "    <tr style=\"text-align: right;\">\n",
       "      <th></th>\n",
       "      <th>GENDER</th>\n",
       "      <th>AGE</th>\n",
       "      <th>SMOKING</th>\n",
       "      <th>YELLOW_FINGERS</th>\n",
       "      <th>ANXIETY</th>\n",
       "      <th>PEER_PRESSURE</th>\n",
       "      <th>CHRONIC DISEASE</th>\n",
       "      <th>FATIGUE</th>\n",
       "      <th>ALLERGY</th>\n",
       "      <th>WHEEZING</th>\n",
       "      <th>ALCOHOL CONSUMING</th>\n",
       "      <th>COUGHING</th>\n",
       "      <th>SHORTNESS OF BREATH</th>\n",
       "      <th>SWALLOWING DIFFICULTY</th>\n",
       "      <th>CHEST PAIN</th>\n",
       "      <th>LUNG_CANCER</th>\n",
       "    </tr>\n",
       "  </thead>\n",
       "  <tbody>\n",
       "    <tr>\n",
       "      <th>0</th>\n",
       "      <td>0</td>\n",
       "      <td>69</td>\n",
       "      <td>0</td>\n",
       "      <td>1</td>\n",
       "      <td>1</td>\n",
       "      <td>0</td>\n",
       "      <td>0</td>\n",
       "      <td>1</td>\n",
       "      <td>0</td>\n",
       "      <td>1</td>\n",
       "      <td>1</td>\n",
       "      <td>1</td>\n",
       "      <td>1</td>\n",
       "      <td>1</td>\n",
       "      <td>1</td>\n",
       "      <td>1</td>\n",
       "    </tr>\n",
       "    <tr>\n",
       "      <th>1</th>\n",
       "      <td>0</td>\n",
       "      <td>74</td>\n",
       "      <td>1</td>\n",
       "      <td>0</td>\n",
       "      <td>0</td>\n",
       "      <td>0</td>\n",
       "      <td>1</td>\n",
       "      <td>1</td>\n",
       "      <td>1</td>\n",
       "      <td>0</td>\n",
       "      <td>0</td>\n",
       "      <td>0</td>\n",
       "      <td>1</td>\n",
       "      <td>1</td>\n",
       "      <td>1</td>\n",
       "      <td>1</td>\n",
       "    </tr>\n",
       "    <tr>\n",
       "      <th>2</th>\n",
       "      <td>1</td>\n",
       "      <td>59</td>\n",
       "      <td>0</td>\n",
       "      <td>0</td>\n",
       "      <td>0</td>\n",
       "      <td>1</td>\n",
       "      <td>0</td>\n",
       "      <td>1</td>\n",
       "      <td>0</td>\n",
       "      <td>1</td>\n",
       "      <td>0</td>\n",
       "      <td>1</td>\n",
       "      <td>1</td>\n",
       "      <td>0</td>\n",
       "      <td>1</td>\n",
       "      <td>0</td>\n",
       "    </tr>\n",
       "    <tr>\n",
       "      <th>3</th>\n",
       "      <td>0</td>\n",
       "      <td>63</td>\n",
       "      <td>1</td>\n",
       "      <td>1</td>\n",
       "      <td>1</td>\n",
       "      <td>0</td>\n",
       "      <td>0</td>\n",
       "      <td>0</td>\n",
       "      <td>0</td>\n",
       "      <td>0</td>\n",
       "      <td>1</td>\n",
       "      <td>0</td>\n",
       "      <td>0</td>\n",
       "      <td>1</td>\n",
       "      <td>1</td>\n",
       "      <td>0</td>\n",
       "    </tr>\n",
       "    <tr>\n",
       "      <th>4</th>\n",
       "      <td>1</td>\n",
       "      <td>63</td>\n",
       "      <td>0</td>\n",
       "      <td>1</td>\n",
       "      <td>0</td>\n",
       "      <td>0</td>\n",
       "      <td>0</td>\n",
       "      <td>0</td>\n",
       "      <td>0</td>\n",
       "      <td>1</td>\n",
       "      <td>0</td>\n",
       "      <td>1</td>\n",
       "      <td>1</td>\n",
       "      <td>0</td>\n",
       "      <td>0</td>\n",
       "      <td>0</td>\n",
       "    </tr>\n",
       "  </tbody>\n",
       "</table>\n",
       "</div>"
      ],
      "text/plain": [
       "   GENDER  AGE  SMOKING  YELLOW_FINGERS  ANXIETY  PEER_PRESSURE  \\\n",
       "0       0   69        0               1        1              0   \n",
       "1       0   74        1               0        0              0   \n",
       "2       1   59        0               0        0              1   \n",
       "3       0   63        1               1        1              0   \n",
       "4       1   63        0               1        0              0   \n",
       "\n",
       "   CHRONIC DISEASE  FATIGUE   ALLERGY   WHEEZING  ALCOHOL CONSUMING  COUGHING  \\\n",
       "0                0         1         0         1                  1         1   \n",
       "1                1         1         1         0                  0         0   \n",
       "2                0         1         0         1                  0         1   \n",
       "3                0         0         0         0                  1         0   \n",
       "4                0         0         0         1                  0         1   \n",
       "\n",
       "   SHORTNESS OF BREATH  SWALLOWING DIFFICULTY  CHEST PAIN  LUNG_CANCER  \n",
       "0                    1                      1           1            1  \n",
       "1                    1                      1           1            1  \n",
       "2                    1                      0           1            0  \n",
       "3                    0                      1           1            0  \n",
       "4                    1                      0           0            0  "
      ]
     },
     "execution_count": 13,
     "metadata": {},
     "output_type": "execute_result"
    }
   ],
   "source": [
    "# Create a copy of the original DataFrame to work with\n",
    "lung_tabular_binary = lung_tabular.copy()\n",
    "\n",
    "# Convert categorical values to binary [0, 1]\n",
    "# Convert GENDER: M = 0, F = 1\n",
    "lung_tabular_binary['GENDER'] = lung_tabular_binary['GENDER'].replace({'M': 0, 'F': 1})\n",
    "\n",
    "# Convert LUNG_CANCER: NO = 0, YES = 1\n",
    "lung_tabular_binary['LUNG_CANCER'] = lung_tabular_binary['LUNG_CANCER'].replace({'NO': 0, 'YES': 1})\n",
    "\n",
    "# Convert all other features from [1, 2] to [0, 1], NO = 0, YES = 1\n",
    "for column in lung_tabular_binary.columns:\n",
    "    if lung_tabular_binary[column].dtype == 'int64' and lung_tabular_binary[column].isin([1, 2]).all():\n",
    "        lung_tabular_binary[column] = lung_tabular_binary[column] - 1\n",
    "\n",
    "# Display the first few rows to verify changes\n",
    "lung_tabular_binary.head()"
   ]
  },
  {
   "cell_type": "code",
   "execution_count": 17,
   "metadata": {
    "colab": {
     "base_uri": "https://localhost:8080/"
    },
    "id": "3pcwbiQOhRrg",
    "outputId": "20849815-ceff-410e-d4ba-f07a542cf44c"
   },
   "outputs": [
    {
     "data": {
      "text/plain": [
       "<Axes: >"
      ]
     },
     "execution_count": 17,
     "metadata": {},
     "output_type": "execute_result"
    },
    {
     "data": {
      "image/png": "[encoded data removed]",
      "text/plain": [
       "<Figure size 1600x1200 with 1 Axes>"
      ]
     },
     "metadata": {},
     "output_type": "display_data"
    }
   ],
   "source": [
    "lung_tabular_binary['AGE'].hist(bins=70, figsize=(16,12))"
   ]
  },
  {
   "cell_type": "markdown",
   "metadata": {},
   "source": [
    "By plotting a histogram of age values, it is clear that most participant ages are betweem 50 and 80, with very few perticipants between ages 40 and 50. \n",
    "\n",
    "There is a outlier at the age of 21 and 87. There are also missing values at ages 49, 54 and in particular 71.\n",
    "\n",
    "There is a particularly high concentration in the 60-65 age range. \n",
    "\n",
    "Overall, this looks like a normal distribution with a mean age around 62.\n",
    "\n",
    "\n",
    "Let's plot a histogram for the binary attributes."
   ]
  },
  {
   "cell_type": "code",
   "execution_count": 18,
   "metadata": {
    "colab": {
     "base_uri": "https://localhost:8080/",
     "height": 1000
    },
    "id": "zL4M1klihRri",
    "outputId": "568674f3-659d-4076-e9e1-baec3a952d42"
   },
   "outputs": [
    {
     "data": {
      "text/plain": [
       "array([[<Axes: title={'center': 'GENDER'}>,\n",
       "        <Axes: title={'center': 'SMOKING'}>,\n",
       "        <Axes: title={'center': 'YELLOW_FINGERS'}>,\n",
       "        <Axes: title={'center': 'ANXIETY'}>],\n",
       "       [<Axes: title={'center': 'PEER_PRESSURE'}>,\n",
       "        <Axes: title={'center': 'CHRONIC DISEASE'}>,\n",
       "        <Axes: title={'center': 'FATIGUE '}>,\n",
       "        <Axes: title={'center': 'ALLERGY '}>],\n",
       "       [<Axes: title={'center': 'WHEEZING'}>,\n",
       "        <Axes: title={'center': 'ALCOHOL CONSUMING'}>,\n",
       "        <Axes: title={'center': 'COUGHING'}>,\n",
       "        <Axes: title={'center': 'SHORTNESS OF BREATH'}>],\n",
       "       [<Axes: title={'center': 'SWALLOWING DIFFICULTY'}>,\n",
       "        <Axes: title={'center': 'CHEST PAIN'}>,\n",
       "        <Axes: title={'center': 'LUNG_CANCER'}>, <Axes: >]], dtype=object)"
      ]
     },
     "execution_count": 18,
     "metadata": {},
     "output_type": "execute_result"
    },
    {
     "data": {
      "image/png": "[encoded data removed]",
      "text/plain": [
       "<Figure size 2000x1500 with 16 Axes>"
      ]
     },
     "metadata": {},
     "output_type": "display_data"
    }
   ],
   "source": [
    "# Select all columns except 'AGE'\n",
    "lung_tabular_binary_excl_age = lung_tabular_binary.drop(columns=['AGE'])\n",
    "\n",
    "# Plot histograms for all selected columns\n",
    "lung_tabular_binary_excl_age.hist(figsize=(20, 15), bins=3)\n"
   ]
  },
  {
   "cell_type": "markdown",
   "metadata": {},
   "source": [
    "Features like GENDER, ANXIETY, PEER_PRESSURE, CHRONIC DISEASE, WHEEZING, and SWALLOWING DIFFICULTY appear to be relatively balanced between the two categories (0 and 1), with counts close to 150 for each category\n",
    "\n",
    "On the other hand, SMOKING, YELLOW_FINGERS, FATIGUE, ALLERGY, COUGHING, SHORTNESS OF BREATH, ALCOHOL CONSUMING, and CHEST PAIN show a noticeable imbalance, with one category being more prevalent than the other.\n",
    "\n",
    "The LUNG_CANCER feature is highly imbalanced, with a significant majority labeled as 1 (positive for lung cancer). This confirms the earlier observation of class imbalance, which may need addressing in modeling.\n",
    "\n",
    "FATIGUE and SHORTNESS OF BREATH have the most noticable imbalance, with the majority of patients in this dataset having these symptoms, possibly making the correlate with having LUNG CANCER."
   ]
  }
 ],
 "metadata": {
  "colab": {
   "provenance": []
  },
  "kernelspec": {
   "display_name": "F21DL",
   "language": "python",
   "name": "python3"
  },
  "language_info": {
   "codemirror_mode": {
    "name": "ipython",
    "version": 3
   },
   "file_extension": ".py",
   "mimetype": "text/x-python",
   "name": "python",
   "nbconvert_exporter": "python",
   "pygments_lexer": "ipython3",
   "version": "3.8.19"
  }
 },
 "nbformat": 4,
 "nbformat_minor": 4
}
