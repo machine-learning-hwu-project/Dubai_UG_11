{
  "nbformat": 4,
  "nbformat_minor": 0,
  "metadata": {
    "colab": {
      "provenance": []
    },
    "kernelspec": {
      "name": "python3",
      "display_name": "Python 3"
    },
    "language_info": {
      "name": "python"
    }
  },
  "cells": [
    {
      "cell_type": "code",
      "execution_count": null,
      "metadata": {
        "colab": {
          "base_uri": "https://localhost:8080/"
        },
        "id": "TKFDXWZvXt_a",
        "outputId": "0db7e080-ace1-4c6a-b703-cffccb519afd"
      },
      "outputs": [
        {
          "output_type": "stream",
          "name": "stdout",
          "text": [
            "29/10/2024\n",
            " Oversampling notebook\n",
            " Authosrs: Yasmeen\n"
          ]
        }
      ],
      "source": [
        "print(\"29/10/2024\\n Oversampling notebook\\n Authosrs: Yasmeen\")"
      ]
    },
    {
      "cell_type": "markdown",
      "source": [
        "Mounting one drive"
      ],
      "metadata": {
        "id": "FFeFuY7X3-cp"
      }
    },
    {
      "cell_type": "code",
      "source": [
        "from google.colab import drive\n",
        "\n",
        "drive.mount('/content/gdrive')"
      ],
      "metadata": {
        "colab": {
          "base_uri": "https://localhost:8080/"
        },
        "id": "bO04gkUKalhp",
        "outputId": "4c70347e-b905-46e6-9623-ab53dd1ce84d"
      },
      "execution_count": 3,
      "outputs": [
        {
          "output_type": "stream",
          "name": "stdout",
          "text": [
            "Mounted at /content/gdrive\n"
          ]
        }
      ]
    },
    {
      "cell_type": "markdown",
      "source": [
        "Adding file path"
      ],
      "metadata": {
        "id": "7foZkI604BE7"
      }
    },
    {
      "cell_type": "code",
      "source": [
        "import pandas as pd\n",
        "file_path = '/content/gdrive/MyDrive/Datasets/survey lung cancer.csv'\n",
        "df = pd.read_csv(file_path)\n",
        "df.head"
      ],
      "metadata": {
        "colab": {
          "base_uri": "https://localhost:8080/",
          "height": 186
        },
        "id": "4ubsV8WPcZiO",
        "outputId": "0815e981-21a9-4381-9de9-30ecb356714c",
        "collapsed": true
      },
      "execution_count": 9,
      "outputs": [
        {
          "output_type": "execute_result",
          "data": {
            "text/plain": [
              "<bound method NDFrame.head of     GENDER  AGE  SMOKING  YELLOW_FINGERS  ANXIETY  PEER_PRESSURE  \\\n",
              "0        M   69        1               2        2              1   \n",
              "1        M   74        2               1        1              1   \n",
              "2        F   59        1               1        1              2   \n",
              "3        M   63        2               2        2              1   \n",
              "4        F   63        1               2        1              1   \n",
              "..     ...  ...      ...             ...      ...            ...   \n",
              "304      F   56        1               1        1              2   \n",
              "305      M   70        2               1        1              1   \n",
              "306      M   58        2               1        1              1   \n",
              "307      M   67        2               1        2              1   \n",
              "308      M   62        1               1        1              2   \n",
              "\n",
              "     CHRONIC DISEASE  FATIGUE   ALLERGY   WHEEZING  ALCOHOL CONSUMING  \\\n",
              "0                  1         2         1         2                  2   \n",
              "1                  2         2         2         1                  1   \n",
              "2                  1         2         1         2                  1   \n",
              "3                  1         1         1         1                  2   \n",
              "4                  1         1         1         2                  1   \n",
              "..               ...       ...       ...       ...                ...   \n",
              "304                2         2         1         1                  2   \n",
              "305                1         2         2         2                  2   \n",
              "306                1         1         2         2                  2   \n",
              "307                1         2         2         1                  2   \n",
              "308                1         2         2         2                  2   \n",
              "\n",
              "     COUGHING  SHORTNESS OF BREATH  SWALLOWING DIFFICULTY  CHEST PAIN  \\\n",
              "0           2                    2                      2           2   \n",
              "1           1                    2                      2           2   \n",
              "2           2                    2                      1           2   \n",
              "3           1                    1                      2           2   \n",
              "4           2                    2                      1           1   \n",
              "..        ...                  ...                    ...         ...   \n",
              "304         2                    2                      2           1   \n",
              "305         2                    2                      1           2   \n",
              "306         2                    1                      1           2   \n",
              "307         2                    2                      1           2   \n",
              "308         1                    1                      2           1   \n",
              "\n",
              "    LUNG_CANCER  \n",
              "0           YES  \n",
              "1           YES  \n",
              "2            NO  \n",
              "3            NO  \n",
              "4            NO  \n",
              "..          ...  \n",
              "304         YES  \n",
              "305         YES  \n",
              "306         YES  \n",
              "307         YES  \n",
              "308         YES  \n",
              "\n",
              "[309 rows x 16 columns]>"
            ],
            "text/html": [
              "<div style=\"max-width:800px; border: 1px solid var(--colab-border-color);\"><style>\n",
              "      pre.function-repr-contents {\n",
              "        overflow-x: auto;\n",
              "        padding: 8px 12px;\n",
              "        max-height: 500px;\n",
              "      }\n",
              "\n",
              "      pre.function-repr-contents.function-repr-contents-collapsed {\n",
              "        cursor: pointer;\n",
              "        max-height: 100px;\n",
              "      }\n",
              "    </style>\n",
              "    <pre style=\"white-space: initial; background:\n",
              "         var(--colab-secondary-surface-color); padding: 8px 12px;\n",
              "         border-bottom: 1px solid var(--colab-border-color);\"><b>pandas.core.generic.NDFrame.head</b><br/>def head(n: int=5) -&gt; Self</pre><pre class=\"function-repr-contents function-repr-contents-collapsed\" style=\"\"><a class=\"filepath\" style=\"display:none\" href=\"#\">/usr/local/lib/python3.10/dist-packages/pandas/core/generic.py</a>Return the first `n` rows.\n",
              "\n",
              "This function returns the first `n` rows for the object based\n",
              "on position. It is useful for quickly testing if your object\n",
              "has the right type of data in it.\n",
              "\n",
              "For negative values of `n`, this function returns all rows except\n",
              "the last `|n|` rows, equivalent to ``df[:n]``.\n",
              "\n",
              "If n is larger than the number of rows, this function returns all rows.\n",
              "\n",
              "Parameters\n",
              "----------\n",
              "n : int, default 5\n",
              "    Number of rows to select.\n",
              "\n",
              "Returns\n",
              "-------\n",
              "same type as caller\n",
              "    The first `n` rows of the caller object.\n",
              "\n",
              "See Also\n",
              "--------\n",
              "DataFrame.tail: Returns the last `n` rows.\n",
              "\n",
              "Examples\n",
              "--------\n",
              "&gt;&gt;&gt; df = pd.DataFrame({&#x27;animal&#x27;: [&#x27;alligator&#x27;, &#x27;bee&#x27;, &#x27;falcon&#x27;, &#x27;lion&#x27;,\n",
              "...                    &#x27;monkey&#x27;, &#x27;parrot&#x27;, &#x27;shark&#x27;, &#x27;whale&#x27;, &#x27;zebra&#x27;]})\n",
              "&gt;&gt;&gt; df\n",
              "      animal\n",
              "0  alligator\n",
              "1        bee\n",
              "2     falcon\n",
              "3       lion\n",
              "4     monkey\n",
              "5     parrot\n",
              "6      shark\n",
              "7      whale\n",
              "8      zebra\n",
              "\n",
              "Viewing the first 5 lines\n",
              "\n",
              "&gt;&gt;&gt; df.head()\n",
              "      animal\n",
              "0  alligator\n",
              "1        bee\n",
              "2     falcon\n",
              "3       lion\n",
              "4     monkey\n",
              "\n",
              "Viewing the first `n` lines (three in this case)\n",
              "\n",
              "&gt;&gt;&gt; df.head(3)\n",
              "      animal\n",
              "0  alligator\n",
              "1        bee\n",
              "2     falcon\n",
              "\n",
              "For negative values of `n`\n",
              "\n",
              "&gt;&gt;&gt; df.head(-3)\n",
              "      animal\n",
              "0  alligator\n",
              "1        bee\n",
              "2     falcon\n",
              "3       lion\n",
              "4     monkey\n",
              "5     parrot</pre>\n",
              "      <script>\n",
              "      if (google.colab.kernel.accessAllowed && google.colab.files && google.colab.files.view) {\n",
              "        for (const element of document.querySelectorAll('.filepath')) {\n",
              "          element.style.display = 'block'\n",
              "          element.onclick = (event) => {\n",
              "            event.preventDefault();\n",
              "            event.stopPropagation();\n",
              "            google.colab.files.view(element.textContent, 5818);\n",
              "          };\n",
              "        }\n",
              "      }\n",
              "      for (const element of document.querySelectorAll('.function-repr-contents')) {\n",
              "        element.onclick = (event) => {\n",
              "          event.preventDefault();\n",
              "          event.stopPropagation();\n",
              "          element.classList.toggle('function-repr-contents-collapsed');\n",
              "        };\n",
              "      }\n",
              "      </script>\n",
              "      </div>"
            ]
          },
          "metadata": {},
          "execution_count": 9
        }
      ]
    },
    {
      "cell_type": "markdown",
      "source": [
        "Installing needed libraries"
      ],
      "metadata": {
        "id": "w6AqRbuJ4IrK"
      }
    },
    {
      "cell_type": "code",
      "source": [
        "!pip install imbalanced-learn"
      ],
      "metadata": {
        "id": "wANMWLh-cr4n",
        "colab": {
          "base_uri": "https://localhost:8080/"
        },
        "outputId": "8a9554d4-202b-46e8-c843-3ed856a8f728",
        "collapsed": true
      },
      "execution_count": null,
      "outputs": [
        {
          "output_type": "stream",
          "name": "stdout",
          "text": [
            "Requirement already satisfied: imbalanced-learn in /usr/local/lib/python3.10/dist-packages (0.12.4)\n",
            "Requirement already satisfied: numpy>=1.17.3 in /usr/local/lib/python3.10/dist-packages (from imbalanced-learn) (1.26.4)\n",
            "Requirement already satisfied: scipy>=1.5.0 in /usr/local/lib/python3.10/dist-packages (from imbalanced-learn) (1.13.1)\n",
            "Requirement already satisfied: scikit-learn>=1.0.2 in /usr/local/lib/python3.10/dist-packages (from imbalanced-learn) (1.5.2)\n",
            "Requirement already satisfied: joblib>=1.1.1 in /usr/local/lib/python3.10/dist-packages (from imbalanced-learn) (1.4.2)\n",
            "Requirement already satisfied: threadpoolctl>=2.0.0 in /usr/local/lib/python3.10/dist-packages (from imbalanced-learn) (3.5.0)\n"
          ]
        }
      ]
    },
    {
      "cell_type": "markdown",
      "source": [
        "using random oversampling to balance out the dataset"
      ],
      "metadata": {
        "id": "HlaWpyvBUdnu"
      }
    },
    {
      "cell_type": "code",
      "source": [
        "\n",
        "import pandas as pd\n",
        "from imblearn.over_sampling import RandomOverSampler\n",
        "from sklearn.model_selection import train_test_split\n",
        "from collections import Counter\n",
        "\n",
        "\n",
        "data = pd.read_csv('/content/gdrive/My Drive/Datasets/survey lung cancer.csv')\n",
        "\n",
        "\n",
        "X = data.drop(columns=['LUNG_CANCER'])\n",
        "y = data['LUNG_CANCER']\n",
        "\n",
        "\n",
        "print(\"Original class distribution:\", Counter(y))\n",
        "\n",
        "\n",
        "ros = RandomOverSampler(random_state=42)\n",
        "X_resampled, y_resampled = ros.fit_resample(X, y)\n",
        "\n",
        "\n",
        "print(\"Resampled class distribution:\", Counter(y_resampled))\n",
        "\n",
        "\n",
        "balanced_data = pd.concat([X_resampled, y_resampled], axis=1)\n",
        "print(balanced_data.head())\n",
        "\n"
      ],
      "metadata": {
        "colab": {
          "base_uri": "https://localhost:8080/"
        },
        "id": "f0w4Cmgv6UMK",
        "outputId": "4607432e-cc27-4536-b476-a6b3a1c45e53",
        "collapsed": true
      },
      "execution_count": 4,
      "outputs": [
        {
          "output_type": "stream",
          "name": "stdout",
          "text": [
            "Original class distribution: Counter({'YES': 270, 'NO': 39})\n",
            "Resampled class distribution: Counter({'YES': 270, 'NO': 270})\n",
            "  GENDER  AGE  SMOKING  YELLOW_FINGERS  ANXIETY  PEER_PRESSURE  \\\n",
            "0      M   69        1               2        2              1   \n",
            "1      M   74        2               1        1              1   \n",
            "2      F   59        1               1        1              2   \n",
            "3      M   63        2               2        2              1   \n",
            "4      F   63        1               2        1              1   \n",
            "\n",
            "   CHRONIC DISEASE  FATIGUE   ALLERGY   WHEEZING  ALCOHOL CONSUMING  COUGHING  \\\n",
            "0                1         2         1         2                  2         2   \n",
            "1                2         2         2         1                  1         1   \n",
            "2                1         2         1         2                  1         2   \n",
            "3                1         1         1         1                  2         1   \n",
            "4                1         1         1         2                  1         2   \n",
            "\n",
            "   SHORTNESS OF BREATH  SWALLOWING DIFFICULTY  CHEST PAIN LUNG_CANCER  \n",
            "0                    2                      2           2         YES  \n",
            "1                    2                      2           2         YES  \n",
            "2                    2                      1           2          NO  \n",
            "3                    1                      2           2          NO  \n",
            "4                    2                      1           1          NO  \n"
          ]
        }
      ]
    },
    {
      "cell_type": "markdown",
      "source": [
        "Save the balanced dataset to a new CSV file"
      ],
      "metadata": {
        "id": "qp8SbXDcVB2U"
      }
    },
    {
      "cell_type": "code",
      "source": [
        "\n",
        "balanced_data.to_csv('/content/gdrive/MyDrive/Datasets/balanced_survey_lung_cancer.csv', index=False)\n"
      ],
      "metadata": {
        "id": "khntMToA-2Cj"
      },
      "execution_count": null,
      "outputs": []
    },
    {
      "cell_type": "markdown",
      "source": [
        "Check for duplicates in the balanced dataset"
      ],
      "metadata": {
        "id": "oukdm0rhVhLi"
      }
    },
    {
      "cell_type": "code",
      "source": [
        "\n",
        "minority_class_duplicates = balanced_data[balanced_data.duplicated()]\n",
        "print(\"Number of duplicates after oversampling:\", len(minority_class_duplicates))\n"
      ],
      "metadata": {
        "colab": {
          "base_uri": "https://localhost:8080/"
        },
        "id": "FVjQnzsh_PXt",
        "outputId": "9ceefe49-67c1-4883-a60f-13a2326de0fb",
        "collapsed": true
      },
      "execution_count": null,
      "outputs": [
        {
          "output_type": "stream",
          "name": "stdout",
          "text": [
            "Number of duplicates after oversampling: 264\n"
          ]
        }
      ]
    },
    {
      "cell_type": "markdown",
      "source": [
        "Performing a comparison of the minority class"
      ],
      "metadata": {
        "id": "_fWaM4Pz4TKY"
      }
    },
    {
      "cell_type": "code",
      "source": [
        "\n",
        "original_minority = data[data['LUNG_CANCER'] == 'NO']\n",
        "oversampled_minority = balanced_data[balanced_data['LUNG_CANCER'] == 'NO']\n",
        "\n",
        "\n",
        "print(\"Original minority summary statistics:\\n\", original_minority.describe())\n",
        "print(\"Oversampled minority summary statistics:\\n\", oversampled_minority.describe())\n"
      ],
      "metadata": {
        "colab": {
          "base_uri": "https://localhost:8080/"
        },
        "id": "dpVWRhS9GUCI",
        "outputId": "74507069-c1d0-468c-f69c-fbef10cc7157",
        "collapsed": true
      },
      "execution_count": null,
      "outputs": [
        {
          "output_type": "stream",
          "name": "stdout",
          "text": [
            "Original minority summary statistics:\n",
            "              AGE    SMOKING  YELLOW_FINGERS    ANXIETY  PEER_PRESSURE  \\\n",
            "count  39.000000  39.000000       39.000000  39.000000      39.000000   \n",
            "mean   60.743590   1.487179        1.333333   1.307692       1.256410   \n",
            "std     9.629226   0.506370        0.477567   0.467572       0.442359   \n",
            "min    21.000000   1.000000        1.000000   1.000000       1.000000   \n",
            "25%    57.000000   1.000000        1.000000   1.000000       1.000000   \n",
            "50%    61.000000   1.000000        1.000000   1.000000       1.000000   \n",
            "75%    65.500000   2.000000        2.000000   2.000000       1.500000   \n",
            "max    87.000000   2.000000        2.000000   2.000000       2.000000   \n",
            "\n",
            "       CHRONIC DISEASE   FATIGUE    ALLERGY    WHEEZING  ALCOHOL CONSUMING  \\\n",
            "count        39.000000  39.000000  39.000000  39.000000          39.000000   \n",
            "mean          1.358974   1.487179   1.128205   1.230769           1.179487   \n",
            "std           0.485971   0.506370   0.338688   0.426833           0.388776   \n",
            "min           1.000000   1.000000   1.000000   1.000000           1.000000   \n",
            "25%           1.000000   1.000000   1.000000   1.000000           1.000000   \n",
            "50%           1.000000   1.000000   1.000000   1.000000           1.000000   \n",
            "75%           2.000000   2.000000   1.000000   1.000000           1.000000   \n",
            "max           2.000000   2.000000   2.000000   2.000000           2.000000   \n",
            "\n",
            "        COUGHING  SHORTNESS OF BREATH  SWALLOWING DIFFICULTY  CHEST PAIN  \n",
            "count  39.000000            39.000000              39.000000   39.000000  \n",
            "mean    1.256410             1.564103               1.128205    1.307692  \n",
            "std     0.442359             0.502356               0.338688    0.467572  \n",
            "min     1.000000             1.000000               1.000000    1.000000  \n",
            "25%     1.000000             1.000000               1.000000    1.000000  \n",
            "50%     1.000000             2.000000               1.000000    1.000000  \n",
            "75%     1.500000             2.000000               1.000000    2.000000  \n",
            "max     2.000000             2.000000               2.000000    2.000000  \n",
            "Oversampled minority summary statistics:\n",
            "               AGE     SMOKING  YELLOW_FINGERS     ANXIETY  PEER_PRESSURE  \\\n",
            "count  270.000000  270.000000      270.000000  270.000000     270.000000   \n",
            "mean    61.029630    1.485185        1.285185    1.325926       1.277778   \n",
            "std      9.873882    0.500709        0.452341    0.469590       0.448735   \n",
            "min     21.000000    1.000000        1.000000    1.000000       1.000000   \n",
            "25%     57.000000    1.000000        1.000000    1.000000       1.000000   \n",
            "50%     61.000000    1.000000        1.000000    1.000000       1.000000   \n",
            "75%     64.000000    2.000000        2.000000    2.000000       2.000000   \n",
            "max     87.000000    2.000000        2.000000    2.000000       2.000000   \n",
            "\n",
            "       CHRONIC DISEASE    FATIGUE     ALLERGY     WHEEZING  ALCOHOL CONSUMING  \\\n",
            "count       270.000000  270.000000  270.000000  270.000000         270.000000   \n",
            "mean          1.385185    1.507407    1.125926    1.203704           1.185185   \n",
            "std           0.487543    0.500874    0.332382    0.403499           0.389169   \n",
            "min           1.000000    1.000000    1.000000    1.000000           1.000000   \n",
            "25%           1.000000    1.000000    1.000000    1.000000           1.000000   \n",
            "50%           1.000000    2.000000    1.000000    1.000000           1.000000   \n",
            "75%           2.000000    2.000000    1.000000    1.000000           1.000000   \n",
            "max           2.000000    2.000000    2.000000    2.000000           2.000000   \n",
            "\n",
            "         COUGHING  SHORTNESS OF BREATH  SWALLOWING DIFFICULTY  CHEST PAIN  \n",
            "count  270.000000           270.000000             270.000000  270.000000  \n",
            "mean     1.251852             1.574074               1.111111    1.288889  \n",
            "std      0.434883             0.495401               0.314853    0.454088  \n",
            "min      1.000000             1.000000               1.000000    1.000000  \n",
            "25%      1.000000             1.000000               1.000000    1.000000  \n",
            "50%      1.000000             2.000000               1.000000    1.000000  \n",
            "75%      1.750000             2.000000               1.000000    2.000000  \n",
            "max      2.000000             2.000000               2.000000    2.000000  \n"
          ]
        }
      ]
    },
    {
      "cell_type": "markdown",
      "source": [
        "Visualizing before balancing and after balancing"
      ],
      "metadata": {
        "id": "anz8cUdwV5_L"
      }
    },
    {
      "cell_type": "code",
      "source": [
        "import matplotlib.pyplot as plt\n",
        "from collections import Counter\n",
        "\n",
        "\n",
        "original_class_counts = Counter(data['LUNG_CANCER'])\n",
        "balanced_class_counts = Counter(balanced_data['LUNG_CANCER'])\n",
        "\n",
        "\n",
        "fig, ax = plt.subplots(1, 2, figsize=(12, 6))\n",
        "\n",
        "\n",
        "ax[0].bar(original_class_counts.keys(), original_class_counts.values(), color='skyblue')\n",
        "ax[0].set_title('Original Class Distribution')\n",
        "ax[0].set_xlabel('LUNG_CANCER')\n",
        "ax[0].set_ylabel('Count')\n",
        "\n",
        "\n",
        "ax[1].bar(balanced_class_counts.keys(), balanced_class_counts.values(), color='salmon')\n",
        "ax[1].set_title('Resampled Class Distribution (After Oversampling)')\n",
        "ax[1].set_xlabel('LUNG_CANCER')\n",
        "ax[1].set_ylabel('Count')\n",
        "\n",
        "plt.tight_layout()\n",
        "plt.show()\n"
      ],
      "metadata": {
        "colab": {
          "base_uri": "https://localhost:8080/",
          "height": 332
        },
        "id": "9o5qKiBXJXIH",
        "outputId": "48364813-0a11-4204-eb41-12b1bf7bc9fc"
      },
      "execution_count": null,
      "outputs": [
        {
          "output_type": "display_data",
          "data": {
            "text/plain": [
              "<Figure size 1200x600 with 2 Axes>"
            ],
            "image/png": "[encoded data removed]"
          },
          "metadata": {}
        }
      ]
    },
    {
      "cell_type": "markdown",
      "source": [
        "Adding path to the balanced dataset."
      ],
      "metadata": {
        "id": "cYIZqR2k9R7g"
      }
    },
    {
      "cell_type": "code",
      "source": [
        "import pandas as pd\n",
        "file_path = '/content/gdrive/My Drive/Datasets/balanced_survey_lung_cancer.csv'\n",
        "df = pd.read_csv(file_path)\n",
        "df.head"
      ],
      "metadata": {
        "colab": {
          "base_uri": "https://localhost:8080/",
          "height": 186
        },
        "collapsed": true,
        "id": "3qJ-7MMZ7JvD",
        "outputId": "95eadeab-11ec-4488-87db-d7c3d1aa0dee"
      },
      "execution_count": 16,
      "outputs": [
        {
          "output_type": "execute_result",
          "data": {
            "text/plain": [
              "<bound method NDFrame.head of     GENDER  AGE  SMOKING  YELLOW_FINGERS  ANXIETY  PEER_PRESSURE  \\\n",
              "0        M   69        1               2        2              1   \n",
              "1        M   74        2               1        1              1   \n",
              "2        F   59        1               1        1              2   \n",
              "3        M   63        2               2        2              1   \n",
              "4        F   63        1               2        1              1   \n",
              "..     ...  ...      ...             ...      ...            ...   \n",
              "535      F   60        2               1        1              1   \n",
              "536      M   55        2               1        1              1   \n",
              "537      F   55        2               1        2              1   \n",
              "538      M   69        1               1        1              2   \n",
              "539      F   87        1               1        1              1   \n",
              "\n",
              "     CHRONIC DISEASE  FATIGUE   ALLERGY   WHEEZING  ALCOHOL CONSUMING  \\\n",
              "0                  1         2         1         2                  2   \n",
              "1                  2         2         2         1                  1   \n",
              "2                  1         2         1         2                  1   \n",
              "3                  1         1         1         1                  2   \n",
              "4                  1         1         1         2                  1   \n",
              "..               ...       ...       ...       ...                ...   \n",
              "535                1         2         1         1                  1   \n",
              "536                1         2         2         1                  1   \n",
              "537                1         2         1         1                  1   \n",
              "538                1         2         1         2                  1   \n",
              "539                2         2         1         1                  1   \n",
              "\n",
              "     COUGHING  SHORTNESS OF BREATH  SWALLOWING DIFFICULTY  CHEST PAIN  \\\n",
              "0           2                    2                      2           2   \n",
              "1           1                    2                      2           2   \n",
              "2           2                    2                      1           2   \n",
              "3           1                    1                      2           2   \n",
              "4           2                    2                      1           1   \n",
              "..        ...                  ...                    ...         ...   \n",
              "535         1                    2                      1           1   \n",
              "536         1                    2                      1           2   \n",
              "537         1                    1                      1           1   \n",
              "538         2                    2                      1           2   \n",
              "539         1                    2                      1           1   \n",
              "\n",
              "    LUNG_CANCER  \n",
              "0           YES  \n",
              "1           YES  \n",
              "2            NO  \n",
              "3            NO  \n",
              "4            NO  \n",
              "..          ...  \n",
              "535          NO  \n",
              "536          NO  \n",
              "537          NO  \n",
              "538          NO  \n",
              "539          NO  \n",
              "\n",
              "[540 rows x 16 columns]>"
            ],
            "text/html": [
              "<div style=\"max-width:800px; border: 1px solid var(--colab-border-color);\"><style>\n",
              "      pre.function-repr-contents {\n",
              "        overflow-x: auto;\n",
              "        padding: 8px 12px;\n",
              "        max-height: 500px;\n",
              "      }\n",
              "\n",
              "      pre.function-repr-contents.function-repr-contents-collapsed {\n",
              "        cursor: pointer;\n",
              "        max-height: 100px;\n",
              "      }\n",
              "    </style>\n",
              "    <pre style=\"white-space: initial; background:\n",
              "         var(--colab-secondary-surface-color); padding: 8px 12px;\n",
              "         border-bottom: 1px solid var(--colab-border-color);\"><b>pandas.core.generic.NDFrame.head</b><br/>def head(n: int=5) -&gt; Self</pre><pre class=\"function-repr-contents function-repr-contents-collapsed\" style=\"\"><a class=\"filepath\" style=\"display:none\" href=\"#\">/usr/local/lib/python3.10/dist-packages/pandas/core/generic.py</a>Return the first `n` rows.\n",
              "\n",
              "This function returns the first `n` rows for the object based\n",
              "on position. It is useful for quickly testing if your object\n",
              "has the right type of data in it.\n",
              "\n",
              "For negative values of `n`, this function returns all rows except\n",
              "the last `|n|` rows, equivalent to ``df[:n]``.\n",
              "\n",
              "If n is larger than the number of rows, this function returns all rows.\n",
              "\n",
              "Parameters\n",
              "----------\n",
              "n : int, default 5\n",
              "    Number of rows to select.\n",
              "\n",
              "Returns\n",
              "-------\n",
              "same type as caller\n",
              "    The first `n` rows of the caller object.\n",
              "\n",
              "See Also\n",
              "--------\n",
              "DataFrame.tail: Returns the last `n` rows.\n",
              "\n",
              "Examples\n",
              "--------\n",
              "&gt;&gt;&gt; df = pd.DataFrame({&#x27;animal&#x27;: [&#x27;alligator&#x27;, &#x27;bee&#x27;, &#x27;falcon&#x27;, &#x27;lion&#x27;,\n",
              "...                    &#x27;monkey&#x27;, &#x27;parrot&#x27;, &#x27;shark&#x27;, &#x27;whale&#x27;, &#x27;zebra&#x27;]})\n",
              "&gt;&gt;&gt; df\n",
              "      animal\n",
              "0  alligator\n",
              "1        bee\n",
              "2     falcon\n",
              "3       lion\n",
              "4     monkey\n",
              "5     parrot\n",
              "6      shark\n",
              "7      whale\n",
              "8      zebra\n",
              "\n",
              "Viewing the first 5 lines\n",
              "\n",
              "&gt;&gt;&gt; df.head()\n",
              "      animal\n",
              "0  alligator\n",
              "1        bee\n",
              "2     falcon\n",
              "3       lion\n",
              "4     monkey\n",
              "\n",
              "Viewing the first `n` lines (three in this case)\n",
              "\n",
              "&gt;&gt;&gt; df.head(3)\n",
              "      animal\n",
              "0  alligator\n",
              "1        bee\n",
              "2     falcon\n",
              "\n",
              "For negative values of `n`\n",
              "\n",
              "&gt;&gt;&gt; df.head(-3)\n",
              "      animal\n",
              "0  alligator\n",
              "1        bee\n",
              "2     falcon\n",
              "3       lion\n",
              "4     monkey\n",
              "5     parrot</pre>\n",
              "      <script>\n",
              "      if (google.colab.kernel.accessAllowed && google.colab.files && google.colab.files.view) {\n",
              "        for (const element of document.querySelectorAll('.filepath')) {\n",
              "          element.style.display = 'block'\n",
              "          element.onclick = (event) => {\n",
              "            event.preventDefault();\n",
              "            event.stopPropagation();\n",
              "            google.colab.files.view(element.textContent, 5818);\n",
              "          };\n",
              "        }\n",
              "      }\n",
              "      for (const element of document.querySelectorAll('.function-repr-contents')) {\n",
              "        element.onclick = (event) => {\n",
              "          event.preventDefault();\n",
              "          event.stopPropagation();\n",
              "          element.classList.toggle('function-repr-contents-collapsed');\n",
              "        };\n",
              "      }\n",
              "      </script>\n",
              "      </div>"
            ]
          },
          "metadata": {},
          "execution_count": 16
        }
      ]
    },
    {
      "cell_type": "markdown",
      "source": [
        "simple code using scikit-learn to train and evaluate the effectivness of the random forest classifier on the balanced dataset. it outputs f1 scores, recall and precision."
      ],
      "metadata": {
        "id": "jGzJFEnz8cCC"
      }
    },
    {
      "cell_type": "code",
      "source": [
        "import pandas as pd\n",
        "from sklearn.model_selection import train_test_split\n",
        "from sklearn.ensemble import RandomForestClassifier\n",
        "from sklearn.metrics import classification_report\n",
        "from imblearn.over_sampling import RandomOverSampler\n",
        "from collections import Counter\n",
        "\n",
        "data = pd.read_csv('/content/gdrive/MyDrive/Datasets/balanced_survey_lung_cancer.csv')\n",
        "\n",
        "\n",
        "X = data.drop(columns=['LUNG_CANCER'])\n",
        "y = data['LUNG_CANCER']\n",
        "\n",
        "#using one-hot encoding to transform categorial data into numeric\n",
        "X = pd.get_dummies(X)\n",
        "\n",
        "\n",
        "ros = RandomOverSampler(random_state=42)\n",
        "X_resampled, y_resampled = ros.fit_resample(X, y)\n",
        "\n",
        "\n",
        "balanced_data = pd.concat([X_resampled, y_resampled], axis=1)\n",
        "\n",
        "\n",
        "X_train, X_val, y_train, y_val = train_test_split(X_resampled, y_resampled, test_size=0.3, random_state=42)\n",
        "\n",
        "clf = RandomForestClassifier(random_state=42)\n",
        "clf.fit(X_train, y_train)\n",
        "\n",
        "y_pred = clf.predict(X_val)\n",
        "print(classification_report(y_val, y_pred))\n"
      ],
      "metadata": {
        "id": "WbXQK7XWOkKE",
        "colab": {
          "base_uri": "https://localhost:8080/"
        },
        "collapsed": true,
        "outputId": "af5d6fb5-9188-4eb9-9192-3b9eb787e91f"
      },
      "execution_count": 17,
      "outputs": [
        {
          "output_type": "stream",
          "name": "stdout",
          "text": [
            "              precision    recall  f1-score   support\n",
            "\n",
            "          NO       0.96      1.00      0.98        81\n",
            "         YES       1.00      0.96      0.98        81\n",
            "\n",
            "    accuracy                           0.98       162\n",
            "   macro avg       0.98      0.98      0.98       162\n",
            "weighted avg       0.98      0.98      0.98       162\n",
            "\n"
          ]
        }
      ]
    },
    {
      "cell_type": "markdown",
      "source": [
        "Visualizing precision, recall and f1 score from the classification report"
      ],
      "metadata": {
        "id": "3JMdYZdK-Wmu"
      }
    },
    {
      "cell_type": "code",
      "source": [
        "import matplotlib.pyplot as plt\n",
        "from sklearn.metrics import classification_report\n",
        "\n",
        "\n",
        "report = classification_report(y_val, y_pred, output_dict=True)\n",
        "\n",
        "\n",
        "classes = list(report.keys())[:-3]\n",
        "precision = [report[cls][\"precision\"] for cls in classes]\n",
        "recall = [report[cls][\"recall\"] for cls in classes]\n",
        "f1_score = [report[cls][\"f1-score\"] for cls in classes]\n",
        "\n",
        "\n",
        "fig, ax = plt.subplots(1, 3, figsize=(18, 5))\n",
        "\n",
        "\n",
        "ax[0].bar(classes, precision, color='skyblue')\n",
        "ax[0].set_title(\"Precision by Class\")\n",
        "ax[0].set_xlabel(\"Class\")\n",
        "ax[0].set_ylabel(\"Precision\")\n",
        "\n",
        "\n",
        "ax[1].bar(classes, recall, color='salmon')\n",
        "ax[1].set_title(\"Recall by Class\")\n",
        "ax[1].set_xlabel(\"Class\")\n",
        "ax[1].set_ylabel(\"Recall\")\n",
        "\n",
        "\n",
        "ax[2].bar(classes, f1_score, color='lightgreen')\n",
        "ax[2].set_title(\"F1 Score by Class\")\n",
        "ax[2].set_xlabel(\"Class\")\n",
        "ax[2].set_ylabel(\"F1 Score\")\n",
        "\n",
        "plt.tight_layout()\n",
        "plt.show()\n"
      ],
      "metadata": {
        "colab": {
          "base_uri": "https://localhost:8080/",
          "height": 401
        },
        "id": "yYkG-tct-HKI",
        "outputId": "d233dd9f-c245-4ed9-8ef9-41dd9e7f01c2"
      },
      "execution_count": 18,
      "outputs": [
        {
          "output_type": "display_data",
          "data": {
            "text/plain": [
              "<Figure size 1800x500 with 3 Axes>"
            ],
            "image/png": "[encoded data removed]"
          },
          "metadata": {}
        }
      ]
    }
  ]
}
