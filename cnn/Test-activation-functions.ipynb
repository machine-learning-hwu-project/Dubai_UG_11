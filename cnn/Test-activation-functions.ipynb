{
 "cells": [
  {
   "cell_type": "markdown",
   "metadata": {},
   "source": [
    " Author: Lourde Hajjar\n",
    "\n",
    "The notebook evaluates the performance of different activation functions on the focused dataset using a neural network architecture. The results were analyzed in terms of accuracy, precision, recall, and F1-score. Among the tested activation functions (ReLU, Sigmoid, Tanh, and ELU), ReLU produced the best results with an accuracy of 0.7923, precision of 0.8026, recall of 0.7923, and an F1-score of 0.7886. \n",
    "\n",
    "These metrics indicate that ReLU is the most effective activation function for this specific dataset and architecture."
   ]
  },
  {
   "cell_type": "markdown",
   "metadata": {},
   "source": [
    "## Evaluation of Different Activation Functions"
   ]
  },
  {
   "cell_type": "markdown",
   "metadata": {},
   "source": [
    "## Import Libraries"
   ]
  },
  {
   "cell_type": "code",
   "execution_count": 8,
   "metadata": {},
   "outputs": [],
   "source": [
    "import os\n",
    "import numpy as np\n",
    "import tensorflow as tf\n",
    "import pandas as pd\n",
    "from sklearn.metrics import f1_score, precision_score, recall_score\n",
    "from sklearn.model_selection import train_test_split\n",
    "from tensorflow.keras.preprocessing.image import ImageDataGenerator\n",
    "from tensorflow.keras.preprocessing.image import load_img, img_to_array\n",
    "from sklearn.preprocessing import LabelEncoder"
   ]
  },
  {
   "cell_type": "markdown",
   "metadata": {},
   "source": [
    "## Apply CNN with different Activation Functions"
   ]
  },
  {
   "cell_type": "code",
   "execution_count": null,
   "metadata": {},
   "outputs": [
    {
     "name": "stdout",
     "output_type": "stream",
     "text": [
      "Training with activation function: relu\n",
      "11/11 [==============================] - 2s 132ms/step\n",
      "Training with activation function: sigmoid\n",
      "11/11 [==============================] - 2s 158ms/step\n",
      "Training with activation function: tanh\n",
      "11/11 [==============================] - 2s 148ms/step\n",
      "Training with activation function: elu\n",
      "11/11 [==============================] - 2s 144ms/step\n",
      "\n",
      "Results Summary:\n",
      "  Activation Function  Accuracy  Precision    Recall  F1-Score\n",
      "0                relu  0.792285   0.802644  0.792285  0.788643\n",
      "1             sigmoid  0.697329   0.729109  0.697329  0.695978\n",
      "2                tanh  0.649852   0.671807  0.649852  0.604441\n",
      "3                 elu  0.738872   0.767737  0.738872  0.732296\n"
     ]
    }
   ],
   "source": [
    "\n",
    "data_dir = r\"C:\\Users\\lourd\\OneDrive\\Desktop\\coursework\\datasets\\3_image\\processed\\3_foc_b\"\n",
    "\n",
    "\n",
    "images, labels = [], []\n",
    "\n",
    "for label in os.listdir(data_dir):\n",
    "    label_dir = os.path.join(data_dir, label)\n",
    "    if os.path.isdir(label_dir):\n",
    "        for img_file in os.listdir(label_dir):\n",
    "            img_path = os.path.join(label_dir, img_file)\n",
    "            img = load_img(img_path, target_size=(256, 256), color_mode=\"grayscale\")\n",
    "            img_array = img_to_array(img) / 255.0  \n",
    "            images.append(img_array)\n",
    "            labels.append(label)\n",
    "\n",
    "images = np.array(images).reshape(-1, 256, 256, 1)  \n",
    "labels = np.array(labels)\n",
    "\n",
    "\n",
    "label_encoder = LabelEncoder()\n",
    "encoded_labels = label_encoder.fit_transform(labels)\n",
    "\n",
    "\n",
    "x_train, x_test, y_train, y_test = train_test_split(images, encoded_labels, test_size=0.2, random_state=42)\n",
    "\n",
    "# Apply Data Augmentation\n",
    "datagen = ImageDataGenerator(\n",
    "    rotation_range=20,\n",
    "    width_shift_range=0.1,\n",
    "    height_shift_range=0.1,\n",
    "    zoom_range=0.2,\n",
    "    horizontal_flip=True\n",
    ")\n",
    "datagen.fit(x_train)\n",
    "\n",
    "# Assign different activation functions\n",
    "activation_functions = ['relu', 'sigmoid', 'tanh', 'elu']\n",
    "\n",
    "\n",
    "results = {\n",
    "    'Activation Function': [],\n",
    "    'Accuracy': [],\n",
    "    'Precision': [],\n",
    "    'Recall': [],\n",
    "    'F1-Score': []\n",
    "}\n",
    "\n",
    "\n",
    "def create_model(activation):\n",
    "    model = tf.keras.models.Sequential([\n",
    "        tf.keras.layers.Conv2D(32, (3, 3), activation=activation, input_shape=(256, 256, 1)),\n",
    "        tf.keras.layers.BatchNormalization(),\n",
    "        tf.keras.layers.MaxPooling2D(2, 2),\n",
    "        tf.keras.layers.Conv2D(64, (3, 3), activation=activation),\n",
    "        tf.keras.layers.BatchNormalization(),\n",
    "        tf.keras.layers.MaxPooling2D(2, 2),\n",
    "        tf.keras.layers.Conv2D(128, (3, 3), activation=activation),\n",
    "        tf.keras.layers.BatchNormalization(),\n",
    "        tf.keras.layers.MaxPooling2D(2, 2),\n",
    "        tf.keras.layers.Flatten(),\n",
    "        tf.keras.layers.Dense(256, activation=activation),\n",
    "        tf.keras.layers.Dense(3, activation='softmax')\n",
    "    ])\n",
    "    return model\n",
    "\n",
    "\n",
    "for activation in activation_functions:\n",
    "    print(f\"Training with activation function: {activation}\")\n",
    "    \n",
    "\n",
    "    model = create_model(activation)\n",
    "    model.compile(optimizer=tf.keras.optimizers.Adam(learning_rate=0.0001),\n",
    "                  loss='sparse_categorical_crossentropy', metrics=['accuracy'])\n",
    "    \n",
    "    # Train the model\n",
    "    history = model.fit(\n",
    "        datagen.flow(x_train, y_train, batch_size=16),\n",
    "        validation_data=(x_test, y_test),\n",
    "        epochs=30,  \n",
    "        callbacks=[tf.keras.callbacks.EarlyStopping(monitor='val_loss', patience=5, restore_best_weights=True)],\n",
    "        verbose=0\n",
    "    )\n",
    "    \n",
    "    # Evaluate the model\n",
    "    test_loss, test_acc = model.evaluate(x_test, y_test, verbose=0)\n",
    "    y_pred_prob = model.predict(x_test)\n",
    "    y_pred = np.argmax(y_pred_prob, axis=1)\n",
    "\n",
    "    # Calculate metrics\n",
    "    accuracy = test_acc\n",
    "    precision = precision_score(y_test, y_pred, average='weighted')\n",
    "    recall = recall_score(y_test, y_pred, average='weighted')\n",
    "    f1 = f1_score(y_test, y_pred, average='weighted')\n",
    "\n",
    "    # Store results\n",
    "    results['Activation Function'].append(activation)\n",
    "    results['Accuracy'].append(accuracy)\n",
    "    results['Precision'].append(precision)\n",
    "    results['Recall'].append(recall)\n",
    "    results['F1-Score'].append(f1)\n",
    "\n",
    "\n",
    "results_df = pd.DataFrame(results)\n",
    "print(\"\\nResults Summary:\")\n",
    "print(results_df)\n"
   ]
  }
 ],
 "metadata": {
  "kernelspec": {
   "display_name": "DMML",
   "language": "python",
   "name": "python3"
  },
  "language_info": {
   "codemirror_mode": {
    "name": "ipython",
    "version": 3
   },
   "file_extension": ".py",
   "mimetype": "text/x-python",
   "name": "python",
   "nbconvert_exporter": "python",
   "pygments_lexer": "ipython3",
   "version": "3.10.13"
  }
 },
 "nbformat": 4,
 "nbformat_minor": 2
}
